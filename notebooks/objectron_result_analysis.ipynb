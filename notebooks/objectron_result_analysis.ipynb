{
 "cells": [
  {
   "cell_type": "code",
   "execution_count": null,
   "metadata": {},
   "outputs": [],
   "source": [
    "import pandas as pd\n",
    "import numpy as np\n",
    "import plotly.express as px\n",
    "import plotly.graph_objects as go\n",
    "import ipywidgets as widgets\n",
    "from ipywidgets import interact, interactive, fixed, interact_manual\n",
    "from sklearn.preprocessing import normalize\n",
    "import random"
   ]
  },
  {
   "cell_type": "code",
   "execution_count": null,
   "metadata": {},
   "outputs": [],
   "source": [
    "experiment = \"../output\"\n",
    "embeddings = np.load(f\"{experiment}/embeddings.npy\")\n",
    "info = np.load(f\"{experiment}/info.npy\")\n",
    "train_embeddings = np.load(f\"{experiment}/train_embeddings.npy\")\n",
    "train_info = np.load(f\"{experiment}/train_info.npy\")\n",
    "embeddings = embeddings.T\n",
    "embeddings.shape, info.shape\n",
    "\n"
   ]
  },
  {
   "cell_type": "code",
   "execution_count": null,
   "metadata": {},
   "outputs": [],
   "source": [
    "mu = embeddings.mean(axis=1)\n",
    "mu = np.expand_dims(mu, axis=1) \n",
    "norm_embeddings = (embeddings-mu)\n",
    "norm_embeddings /= np.expand_dims(np.linalg.norm(norm_embeddings,axis=1), axis=1)\n",
    "np.linalg.norm(norm_embeddings,axis=1), norm_embeddings.mean()"
   ]
  },
  {
   "cell_type": "code",
   "execution_count": null,
   "metadata": {},
   "outputs": [],
   "source": [
    "from sklearn.decomposition import PCA\n",
    "pca = PCA(n_components=50)\n",
    "embeddings_pca = pca.fit_transform(norm_embeddings)\n",
    "embeddings_pca.shape\n",
    "pca.explained_variance_ratio_[0:3].sum(), pca.explained_variance_ratio_[0:3], pca.explained_variance_ratio_.sum()\n"
   ]
  },
  {
   "cell_type": "code",
   "execution_count": null,
   "metadata": {},
   "outputs": [],
   "source": [
    "from sklearn.manifold import TSNE\n",
    "embeddings_tsne = TSNE(n_components=2).fit_transform(embeddings)\n",
    "embeddings_tsne.shape"
   ]
  },
  {
   "cell_type": "code",
   "execution_count": null,
   "metadata": {},
   "outputs": [],
   "source": [
    "\n",
    "widget_categories = widgets.Combobox(\n",
    "    # value='John',\n",
    "    placeholder='all',\n",
    "    options=['all','bike', 'book', 'bottle', 'camera','cereal_box','chair', 'couch', 'cup', 'eyeglass', 'laptop', 'shoe'],\n",
    "    description='Categories:',\n",
    "    ensure_option=True,\n",
    "    disabled=False\n",
    ")"
   ]
  },
  {
   "cell_type": "code",
   "execution_count": null,
   "metadata": {},
   "outputs": [],
   "source": [
    "info_df = pd.DataFrame(info.T).rename(columns={0:\"class_id\",1:\"uid\"})\n",
    "len(info_df)"
   ]
  },
  {
   "cell_type": "code",
   "execution_count": null,
   "metadata": {},
   "outputs": [],
   "source": [
    "train_info_df = pd.DataFrame(train_info.T).rename(columns={0:\"class_id\",1:\"uid\"})"
   ]
  },
  {
   "cell_type": "code",
   "execution_count": null,
   "metadata": {},
   "outputs": [],
   "source": [
    "info_df"
   ]
  },
  {
   "cell_type": "code",
   "execution_count": null,
   "metadata": {},
   "outputs": [],
   "source": [
    "info_df[\"category\"]=info_df[\"uid\"].str.extract(\"(.*?)-\")\n",
    "info_df[\"sequence_id\"]=info_df[\"uid\"].str.extract(\"(batch-\\d+_\\d+_\\d+)\")\n",
    "info_df[\"frame_id\"]=info_df[\"uid\"].str.extract(\"(\\d+)$\")\n",
    "info_df[\"sequence_uid\"] = info_df[\"category\"] + \"_\" + info_df[\"sequence_id\"]\n",
    "selected = info_df.query(f\"category=='shoe' and sequence_id=='batch-35_37'\").index"
   ]
  },
  {
   "cell_type": "code",
   "execution_count": null,
   "metadata": {},
   "outputs": [],
   "source": [
    "info_df[[\"category\"]]"
   ]
  },
  {
   "cell_type": "code",
   "execution_count": null,
   "metadata": {},
   "outputs": [],
   "source": [
    "def filepath_from_uid(uid, subset=\"valid\"):\n",
    "    dataset_dir=f\"../datasets/objectron/96x96/{subset}\"\n",
    "    category = uid.split(\"-\",1)[0]\n",
    "    frame_name = uid.split(\"-\",1)[1]\n",
    "    category = uid.split(\"-\",1)[0]\n",
    "    frame_name = uid.split(\"-\")[-2]\n",
    "    frame_number = uid.split(\"-\")[-1]\n",
    "    #f\"\"\n",
    "    file_path = f\"{dataset_dir}/{category}/batch-{frame_name}.{frame_number}.jpg\"\n",
    "    return file_path\n",
    "\n",
    "def image_tag(file_path, title=None, caption=\"n/a\"):\n",
    "    if title is None:\n",
    "        title=file_path\n",
    "    return f\"<div style='width:100px;height:120px;float:left;'><div>{caption}</div><img src='{file_path}' title={title}></img></div>\""
   ]
  },
  {
   "cell_type": "code",
   "execution_count": null,
   "metadata": {},
   "outputs": [],
   "source": [
    "out2d = widgets.HTML()\n",
    "\n",
    "fig2d = go.FigureWidget(data=[go.Scatter(\n",
    "    #height=600,\n",
    "    x=embeddings_tsne[:,0],\n",
    "    y=embeddings_tsne[:,1],\n",
    "    text=info[1],\n",
    "    mode='markers',\n",
    "    marker=dict(\n",
    "        size=3,\n",
    "        color=info[0].astype(int),                # set color to an array/list of desired values\n",
    "        colorscale='Viridis',   # choose a colorscale\n",
    "        opacity=0.6\n",
    "    )\n",
    ")])\n",
    "def update_point(trace, points, selector):\n",
    "    global out\n",
    "    global info\n",
    "    global scatter\n",
    "    point_id = points.point_inds[0]\n",
    "    uid=scatter.text[point_id]\n",
    "    file_path = filepath_from_uid(uid)\n",
    "    out2d.value=image_tag(file_path, caption=\"\")\n",
    "\n",
    "scatter = fig2d.data[0]\n",
    "#fig2d.update_layout({\"height\": 800})\n",
    "scatter.on_hover(update_point)\n",
    "display(out2d)\n",
    "display(fig2d)\n"
   ]
  },
  {
   "cell_type": "code",
   "execution_count": null,
   "metadata": {},
   "outputs": [],
   "source": [
    "\n",
    "projected_embeddings=embeddings_pca\n",
    "#projected_embeddings=embeddings_tsne\n",
    "\n",
    "df = pd.DataFrame(projected_embeddings)\n",
    "fig = go.FigureWidget(data=[go.Scatter3d(\n",
    "    x=projected_embeddings[:,0],\n",
    "    y=projected_embeddings[:,1],\n",
    "    z=projected_embeddings[:,2],\n",
    "    text=info[1],\n",
    "    mode='markers',\n",
    "    marker=dict(\n",
    "        size=1,\n",
    "        color=info[0].astype(int),                # set color to an array/list of desired values\n",
    "        colorscale='Viridis',   # choose a colorscale\n",
    "        opacity=0.6\n",
    "    )\n",
    ")])\n",
    "scatter = fig.data[0]\n",
    "fig.layout.hovermode = 'closest'\n",
    "\n",
    "out = widgets.HTML()\n",
    "display(out)\n",
    "out.value=\"<p>Hi there!</p>\"\n",
    "\n",
    "# create our callback function\n",
    "def update_point(trace, points, selector):\n",
    "    global out\n",
    "    global info\n",
    "    global scatter\n",
    "    point_id = points.point_inds[0]\n",
    "    uid=scatter.text[point_id]\n",
    "    file_path = filepath_from_uid(uid)\n",
    "    out.value=image_tag(file_path, caption=\"\")\n",
    "\n",
    "def change_category(x):\n",
    "    global scatter\n",
    "    global projected_embeddings\n",
    "    global info_df\n",
    "    \n",
    "    if x==\"all\":\n",
    "        scatter.x = projected_embeddings[:,0]\n",
    "        scatter.y = projected_embeddings[:,1]\n",
    "        scatter.z = projected_embeddings[:,2]\n",
    "        scatter.text = info_df[\"uid\"]\n",
    "    else:\n",
    "        indices = info_df[\"uid\"].str.contains(x)\n",
    "        scatter.x = projected_embeddings[indices,0]\n",
    "        scatter.y = projected_embeddings[indices,1]\n",
    "        scatter.z = projected_embeddings[indices,2]  \n",
    "        scatter.text = info_df[info_df[\"uid\"].str.contains(x)][\"uid\"]\n",
    "\n",
    "    return \n",
    "scatter.on_hover(update_point)\n",
    "interact(change_category, x=widget_categories)\n",
    "display(fig)\n"
   ]
  },
  {
   "cell_type": "code",
   "execution_count": null,
   "metadata": {},
   "outputs": [],
   "source": [
    "similarity_matrix = np.dot(embeddings,embeddings.T)"
   ]
  },
  {
   "cell_type": "code",
   "execution_count": null,
   "metadata": {},
   "outputs": [],
   "source": [
    "import pandas as pd\n",
    "np.fill_diagonal(similarity_matrix,0)"
   ]
  },
  {
   "cell_type": "code",
   "execution_count": null,
   "metadata": {},
   "outputs": [],
   "source": [
    "train_info_df[\"category\"]=train_info_df[\"uid\"].str.extract(\"(.*?)-\")\n",
    "train_info_df[\"sequence_id\"]=train_info_df[\"uid\"].str.extract(\"(batch-\\d+_\\d+_\\d+)\")\n",
    "train_info_df[\"frame_id\"]=train_info_df[\"uid\"].str.extract(\"(\\d+)$\")\n",
    "train_info_df[\"sequence_uid\"] = train_info_df[\"category\"] + \"_\" + train_info_df[\"sequence_id\"]"
   ]
  },
  {
   "cell_type": "code",
   "execution_count": null,
   "metadata": {},
   "outputs": [],
   "source": [
    "categories = info_df[\"category\"].unique()\n"
   ]
  },
  {
   "cell_type": "code",
   "execution_count": null,
   "metadata": {},
   "outputs": [],
   "source": [
    "visited = [0]\n",
    "\n",
    "def visit(node, similarity_matrix, k=1, threshold=0.95):\n",
    "    i=node\n",
    "    nn = (-similarity_matrix[i]).argsort()[0:k]\n",
    "    valid_nn = []\n",
    "    for j in nn:\n",
    "        if similarity_matrix[i,j] > threshold:\n",
    "            valid_nn.append(j)\n",
    "    return valid_nn\n",
    "visit(0, similarity_matrix)"
   ]
  },
  {
   "cell_type": "code",
   "execution_count": null,
   "metadata": {},
   "outputs": [],
   "source": [
    "from __future__ import print_function\n",
    "from ipywidgets import interact, interactive, fixed, interact_manual\n",
    "import ipywidgets as widgets\n",
    "import gc\n",
    "gc.collect()"
   ]
  },
  {
   "cell_type": "code",
   "execution_count": null,
   "metadata": {},
   "outputs": [],
   "source": [
    "sequences_combo = widgets.Combobox(\n",
    "    placeholder='Choose Sequence',\n",
    "    options=list(info_df[\"uid\"].unique()),\n",
    "    description='Combobox:',\n",
    "    ensure_option=True,\n",
    "    disabled=False\n",
    ")\n",
    "which_radio = widgets.RadioButtons(\n",
    "    options=['all', 'others', 'exclusive'],\n",
    "    description='Show neighbors from sequences:',\n",
    "    disabled=False\n",
    ")"
   ]
  },
  {
   "cell_type": "code",
   "execution_count": null,
   "metadata": {},
   "outputs": [],
   "source": []
  },
  {
   "cell_type": "code",
   "execution_count": null,
   "metadata": {},
   "outputs": [],
   "source": [
    "out_similar = widgets.HTML()\n",
    "which = \"all\"\n",
    "\n",
    "def f(x, which):\n",
    "    global out_similar\n",
    "    max_thumb = 6\n",
    "    idx =info_df[info_df[\"uid\"]==x].index[0]\n",
    "    sequence_uid = info_df.iloc[idx][\"sequence_uid\"]\n",
    "    neighbors = visit(idx, similarity_matrix, k=1000, threshold=0)\n",
    "    valid_neighbbors = neighbors\n",
    "    sequence_uids = [sequence_uid]\n",
    "    if which==\"others\" or which==\"exclusive\":\n",
    "        valid_neighbbors=[]\n",
    "        for n in neighbors:\n",
    "            sequence_uid = str(info_df.iloc[n][\"sequence_uid\"])\n",
    "            if not sequence_uid in sequence_uids:\n",
    "                valid_neighbbors.append(n)\n",
    "            if which=='exclusive':\n",
    "                sequence_uids.append(sequence_uid)\n",
    "\n",
    "    html=\"<div>\"\n",
    "    file_path = filepath_from_uid(x)\n",
    "    print(file_path)\n",
    "    html+=image_tag(file_path,x, caption=\"similarity:\")\n",
    "    for i, n in enumerate(valid_neighbbors):\n",
    "        uid = info_df.iloc[n][\"uid\"]\n",
    "        file_path = filepath_from_uid(uid)\n",
    "        html+=image_tag(file_path, uid, caption=f\"{similarity_matrix[idx, n]:.2f}\")\n",
    "        if i > max_thumb:\n",
    "            break\n",
    "    html+=\"</div>\"\n",
    "    out_similar.value = html\n",
    "    return \n",
    "\n",
    "\n",
    "def g(x):\n",
    "    global which\n",
    "    which = x\n",
    "    \n",
    "print(categories)\n",
    "display(out_similar)\n",
    "interact(f, x=sequences_combo, which=which_radio)\n",
    "#interact(g, o)"
   ]
  },
  {
   "cell_type": "code",
   "execution_count": null,
   "metadata": {},
   "outputs": [],
   "source": [
    "def visit_train(embedding, train_embeddings, k=1000, threshold=0.5):\n",
    "    #i=node\n",
    "    similarity_vector = np.dot(embedding, train_embeddings)\n",
    "    nn = (-similarity_vector).argsort()[0:k]\n",
    "    valid_nn = []\n",
    "    for j in nn:\n",
    "        if similarity_vector[j] > threshold:\n",
    "            valid_nn.append(j)\n",
    "    return valid_nn, similarity_vector"
   ]
  },
  {
   "cell_type": "code",
   "execution_count": null,
   "metadata": {},
   "outputs": [],
   "source": [
    "sequences_combo_train = widgets.Combobox(\n",
    "    placeholder='Choose Sequence',\n",
    "    options=list(info_df[\"uid\"].unique()),\n",
    "    description='Combobox:',\n",
    "    ensure_option=True,\n",
    "    disabled=False\n",
    ")\n",
    "which_radio_train = widgets.RadioButtons(\n",
    "    options=['all', 'others', 'exclusive'],\n",
    "    description='Show neighbors from sequences:',\n",
    "    disabled=False\n",
    ")"
   ]
  },
  {
   "cell_type": "code",
   "execution_count": null,
   "metadata": {
    "scrolled": true
   },
   "outputs": [],
   "source": [
    "out_similar = widgets.HTML()\n",
    "which = \"all\"\n",
    "\n",
    "def f_train(x, which):\n",
    "    global out_similar\n",
    "    \n",
    "    max_thumb = 6\n",
    "    idx =info_df[info_df[\"uid\"]==x].index[0]\n",
    "    sequence_uid = info_df.iloc[idx][\"sequence_uid\"]\n",
    "    \n",
    "    neighbors, similarity_vector = visit_train(embeddings[idx], train_embeddings, k=1000, threshold=0)\n",
    "    print(idx)\n",
    "    valid_neighbbors = neighbors\n",
    "    sequence_uids = {sequence_uid: True}\n",
    "    valid_neighbbors_idx = []\n",
    "    if which==\"others\" or which==\"exclusive\":\n",
    "        valid_neighbbors=[]\n",
    "        for i, n in enumerate(neighbors):\n",
    "            sequence_uid = str(train_info_df.iloc[n][\"sequence_uid\"])\n",
    "            if not sequence_uid in sequence_uids:\n",
    "                valid_neighbbors.append(n)\n",
    "                valid_neighbbors_idx.append(i)\n",
    "                if which=='exclusive':\n",
    "\n",
    "                    sequence_uids[sequence_uid] = True\n",
    "\n",
    "    html=\"<div>\"\n",
    "    file_path = filepath_from_uid(x)\n",
    "    html+=image_tag(file_path,x, caption=\"similarity:\")\n",
    "    for i, n in enumerate(valid_neighbbors):\n",
    "        uid = train_info_df.iloc[n][\"uid\"]\n",
    "        k = valid_neighbbors_idx[i]\n",
    "        file_path = filepath_from_uid(uid, subset=\"train\")\n",
    "        html+=image_tag(file_path, uid, caption=f\"{similarity_vector[n]:.2f}, k={k}\")\n",
    "        if i > max_thumb:\n",
    "            break\n",
    "        #print(file_path)\n",
    "    html+=\"</div>\"\n",
    "    out_similar.value = html\n",
    "    return \n",
    "\n",
    "\n",
    "def g(x):\n",
    "    global which\n",
    "    which = x\n",
    "    \n",
    "print(categories)\n",
    "display(out_similar)\n",
    "interact(f_train, x=sequences_combo_train, which=which_radio_train)\n"
   ]
  },
  {
   "cell_type": "code",
   "execution_count": null,
   "metadata": {},
   "outputs": [],
   "source": [
    "sequence_embeddings_info = info_df[info_df[\"sequence_uid\"]==\"cup_batch-21_13_0\"]\n",
    "sequence_embeddings = embeddings[sequence_embeddings_info.index]\n",
    "sequence_pca = PCA(n_components=10)\n",
    "sequence_embeddings_pca = sequence_pca.fit_transform(sequence_embeddings)\n",
    "sequence_embeddings_info = sequence_embeddings_info.reset_index()"
   ]
  },
  {
   "cell_type": "code",
   "execution_count": null,
   "metadata": {},
   "outputs": [],
   "source": [
    "\n",
    "\n",
    "widget_sequence_uid = widgets.Combobox(\n",
    "    # value='John',\n",
    "    placeholder='shoe_batch-35_37',\n",
    "    options=list(info_df[\"sequence_uid\"].unique()),\n",
    "    description='Categories:',\n",
    "    ensure_option=True,\n",
    "    disabled=False\n",
    ")\n",
    "\n",
    "\n",
    "df = pd.DataFrame(projected_embeddings)\n",
    "fig = go.FigureWidget(data=[go.Scatter3d(\n",
    "    x=sequence_embeddings_pca[:,0],\n",
    "    y=sequence_embeddings_pca[:,1],\n",
    "    z=sequence_embeddings_pca[:,2],\n",
    "    text=sequence_embeddings_info[\"uid\"],\n",
    "    mode='markers',\n",
    "    marker=dict(\n",
    "        size=3,\n",
    "        color=info[0].astype(int),                # set color to an array/list of desired values\n",
    "        colorscale='Viridis',   # choose a colorscale\n",
    "        opacity=0.6\n",
    "    )\n",
    ")])\n",
    "scatter2 = fig.data[0]\n",
    "fig.layout.hovermode = 'closest'\n",
    "\n",
    "out2 = widgets.HTML()\n",
    "display(out2)\n",
    "out.value=\"<p>Hi there!</p>\"\n",
    "\n",
    "# create our callback function\n",
    "def update_point2(trace, points, selector):\n",
    "    global out2\n",
    "    global info\n",
    "    global scatter2\n",
    "    point_id = points.point_inds[0]\n",
    "    #dataset_dir=\"../datasets/objectron_96x96/valid\"\n",
    "    uid=scatter2.text[point_id].split(\",\")[0]\n",
    "    file_path = filepath_from_uid(uid)\n",
    "    out2.value=image_tag(file_path, caption=\"\")\n",
    "\n",
    "def change_sequence_uid(sequence_uid):\n",
    "    global scatter2\n",
    "    global embeddings\n",
    "    global info_df\n",
    "    global sequence_embeddings_pca, sequence_embeddings_info, sequence_embeddings\n",
    "    if len(sequence_uid)==0:\n",
    "        sequence_uid=\"bike_batch-3_10\"\n",
    "    sequence_embeddings_info = info_df[info_df[\"sequence_uid\"]==sequence_uid]\n",
    "    sequence_embeddings = embeddings[sequence_embeddings_info.index]\n",
    "    sequence_pca = PCA(n_components=10)\n",
    "    print(\"Gluk!\")\n",
    "    sequence_embeddings_pca = sequence_pca.fit_transform(sequence_embeddings)\n",
    "    \n",
    "    sequence_embeddings_info = sequence_embeddings_info.reset_index()\n",
    "\n",
    "    scatter2.x = list(sequence_embeddings_pca[:,0])\n",
    "    scatter2.y = sequence_embeddings_pca[:,1]\n",
    "    scatter2.z = sequence_embeddings_pca[:,2]\n",
    "\n",
    "    scatter2.text = sequence_embeddings_info[\"uid\"] + \",\"+ sequence_embeddings_info[\"index\"].astype(str)\n",
    "    return \n",
    "\n",
    "display(fig)\n",
    "scatter2.on_hover(update_point2)\n",
    "interact(change_sequence_uid, sequence_uid=widget_sequence_uid)\n",
    "\n"
   ]
  },
  {
   "cell_type": "code",
   "execution_count": null,
   "metadata": {},
   "outputs": [],
   "source": []
  }
 ],
 "metadata": {
  "kernelspec": {
   "display_name": "Python 3",
   "language": "python",
   "name": "python3"
  },
  "language_info": {
   "codemirror_mode": {
    "name": "ipython",
    "version": 3
   },
   "file_extension": ".py",
   "mimetype": "text/x-python",
   "name": "python",
   "nbconvert_exporter": "python",
   "pygments_lexer": "ipython3",
   "version": "3.8.6"
  }
 },
 "nbformat": 4,
 "nbformat_minor": 4
}