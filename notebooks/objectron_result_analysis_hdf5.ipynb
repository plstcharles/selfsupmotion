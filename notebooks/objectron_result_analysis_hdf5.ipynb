{
 "cells": [
  {
   "cell_type": "code",
   "execution_count": 1,
   "metadata": {},
   "outputs": [],
   "source": [
    "import pandas as pd\n",
    "import numpy as np\n",
    "import plotly.express as px\n",
    "import plotly.graph_objects as go\n",
    "import ipywidgets as widgets\n",
    "from ipywidgets import interact, interactive, fixed, interact_manual\n",
    "from sklearn.preprocessing import normalize\n",
    "import random"
   ]
  },
  {
   "cell_type": "code",
   "execution_count": 2,
   "metadata": {},
   "outputs": [
    {
     "data": {
      "text/plain": [
       "((30978, 2048), (2, 30978))"
      ]
     },
     "execution_count": 2,
     "metadata": {},
     "output_type": "execute_result"
    }
   ],
   "source": [
    "experiment = \"../output/pretrain_224\"\n",
    "embeddings = np.load(f\"{experiment}/embeddings.npy\")\n",
    "info = np.load(f\"{experiment}/info.npy\")\n",
    "train_embeddings = np.load(f\"{experiment}/train_embeddings.npy\")\n",
    "train_info = np.load(f\"{experiment}/train_info.npy\")\n",
    "embeddings = embeddings.T\n",
    "embeddings.shape, info.shape\n",
    "\n"
   ]
  },
  {
   "cell_type": "code",
   "execution_count": null,
   "metadata": {},
   "outputs": [],
   "source": []
  },
  {
   "cell_type": "code",
   "execution_count": 3,
   "metadata": {},
   "outputs": [
    {
     "data": {
      "text/plain": [
       "(array([0.9999995 , 0.9999999 , 0.9999994 , ..., 1.0000001 , 1.        ,\n",
       "        0.99999976], dtype=float32),\n",
       " -1.582569e-10)"
      ]
     },
     "execution_count": 3,
     "metadata": {},
     "output_type": "execute_result"
    }
   ],
   "source": [
    "mu = embeddings.mean(axis=1)\n",
    "mu = np.expand_dims(mu, axis=1) \n",
    "norm_embeddings = (embeddings-mu)\n",
    "norm_embeddings /= np.expand_dims(np.linalg.norm(norm_embeddings,axis=1), axis=1)\n",
    "np.linalg.norm(norm_embeddings,axis=1), norm_embeddings.mean()"
   ]
  },
  {
   "cell_type": "code",
   "execution_count": 4,
   "metadata": {},
   "outputs": [
    {
     "data": {
      "text/plain": [
       "(0.19923058,\n",
       " array([0.09311868, 0.05805342, 0.0480585 ], dtype=float32),\n",
       " 0.76136744)"
      ]
     },
     "execution_count": 4,
     "metadata": {},
     "output_type": "execute_result"
    }
   ],
   "source": [
    "from sklearn.decomposition import PCA\n",
    "pca = PCA(n_components=50)\n",
    "embeddings_pca = pca.fit_transform(norm_embeddings)\n",
    "embeddings_pca.shape\n",
    "pca.explained_variance_ratio_[0:3].sum(), pca.explained_variance_ratio_[0:3], pca.explained_variance_ratio_.sum()\n"
   ]
  },
  {
   "cell_type": "code",
   "execution_count": 5,
   "metadata": {},
   "outputs": [
    {
     "data": {
      "text/plain": [
       "(30978, 2)"
      ]
     },
     "execution_count": 5,
     "metadata": {},
     "output_type": "execute_result"
    }
   ],
   "source": [
    "from sklearn.manifold import TSNE\n",
    "embeddings_tsne = TSNE(n_components=2).fit_transform(embeddings)\n",
    "embeddings_tsne.shape"
   ]
  },
  {
   "cell_type": "code",
   "execution_count": 6,
   "metadata": {},
   "outputs": [],
   "source": [
    "\n",
    "widget_categories = widgets.Combobox(\n",
    "    # value='John',\n",
    "    placeholder='all',\n",
    "    options=['all','bike', 'book', 'bottle', 'camera','cereal_box','chair', 'couch', 'cup', 'eyeglass', 'laptop', 'shoe'],\n",
    "    description='Categories:',\n",
    "    ensure_option=True,\n",
    "    disabled=False\n",
    ")"
   ]
  },
  {
   "cell_type": "code",
   "execution_count": 7,
   "metadata": {},
   "outputs": [
    {
     "data": {
      "text/plain": [
       "30978"
      ]
     },
     "execution_count": 7,
     "metadata": {},
     "output_type": "execute_result"
    }
   ],
   "source": [
    "info_df = pd.DataFrame(info.T).rename(columns={0:\"class_id\",1:\"uid\"})\n",
    "len(info_df)"
   ]
  },
  {
   "cell_type": "code",
   "execution_count": 8,
   "metadata": {},
   "outputs": [],
   "source": [
    "train_info_df = pd.DataFrame(train_info.T).rename(columns={0:\"class_id\",1:\"uid\"})"
   ]
  },
  {
   "cell_type": "code",
   "execution_count": 9,
   "metadata": {},
   "outputs": [
    {
     "data": {
      "text/html": [
       "<div>\n",
       "<style scoped>\n",
       "    .dataframe tbody tr th:only-of-type {\n",
       "        vertical-align: middle;\n",
       "    }\n",
       "\n",
       "    .dataframe tbody tr th {\n",
       "        vertical-align: top;\n",
       "    }\n",
       "\n",
       "    .dataframe thead th {\n",
       "        text-align: right;\n",
       "    }\n",
       "</style>\n",
       "<table border=\"1\" class=\"dataframe\">\n",
       "  <thead>\n",
       "    <tr style=\"text-align: right;\">\n",
       "      <th></th>\n",
       "      <th>class_id</th>\n",
       "      <th>uid</th>\n",
       "    </tr>\n",
       "  </thead>\n",
       "  <tbody>\n",
       "    <tr>\n",
       "      <th>0</th>\n",
       "      <td>6</td>\n",
       "      <td>hdf5_cup/00737_260</td>\n",
       "    </tr>\n",
       "    <tr>\n",
       "      <th>1</th>\n",
       "      <td>5</td>\n",
       "      <td>hdf5_chair/00772_0</td>\n",
       "    </tr>\n",
       "    <tr>\n",
       "      <th>2</th>\n",
       "      <td>7</td>\n",
       "      <td>hdf5_laptop/00759_210</td>\n",
       "    </tr>\n",
       "    <tr>\n",
       "      <th>3</th>\n",
       "      <td>1</td>\n",
       "      <td>hdf5_book/01022_50</td>\n",
       "    </tr>\n",
       "    <tr>\n",
       "      <th>4</th>\n",
       "      <td>2</td>\n",
       "      <td>hdf5_bottle/01070_200</td>\n",
       "    </tr>\n",
       "    <tr>\n",
       "      <th>...</th>\n",
       "      <td>...</td>\n",
       "      <td>...</td>\n",
       "    </tr>\n",
       "    <tr>\n",
       "      <th>30973</th>\n",
       "      <td>4</td>\n",
       "      <td>hdf5_cereal_box/00890_260</td>\n",
       "    </tr>\n",
       "    <tr>\n",
       "      <th>30974</th>\n",
       "      <td>6</td>\n",
       "      <td>hdf5_cup/01284_190</td>\n",
       "    </tr>\n",
       "    <tr>\n",
       "      <th>30975</th>\n",
       "      <td>6</td>\n",
       "      <td>hdf5_cup/00409_180</td>\n",
       "    </tr>\n",
       "    <tr>\n",
       "      <th>30976</th>\n",
       "      <td>0</td>\n",
       "      <td>hdf5_bike/00198_91</td>\n",
       "    </tr>\n",
       "    <tr>\n",
       "      <th>30977</th>\n",
       "      <td>3</td>\n",
       "      <td>hdf5_camera/00555_160</td>\n",
       "    </tr>\n",
       "  </tbody>\n",
       "</table>\n",
       "<p>30978 rows × 2 columns</p>\n",
       "</div>"
      ],
      "text/plain": [
       "      class_id                        uid\n",
       "0            6         hdf5_cup/00737_260\n",
       "1            5         hdf5_chair/00772_0\n",
       "2            7      hdf5_laptop/00759_210\n",
       "3            1         hdf5_book/01022_50\n",
       "4            2      hdf5_bottle/01070_200\n",
       "...        ...                        ...\n",
       "30973        4  hdf5_cereal_box/00890_260\n",
       "30974        6         hdf5_cup/01284_190\n",
       "30975        6         hdf5_cup/00409_180\n",
       "30976        0         hdf5_bike/00198_91\n",
       "30977        3      hdf5_camera/00555_160\n",
       "\n",
       "[30978 rows x 2 columns]"
      ]
     },
     "execution_count": 9,
     "metadata": {},
     "output_type": "execute_result"
    }
   ],
   "source": [
    "info_df"
   ]
  },
  {
   "cell_type": "code",
   "execution_count": 10,
   "metadata": {},
   "outputs": [],
   "source": [
    "info_df[\"category\"]=info_df[\"uid\"].str.extract(\"hdf5_(.*?)/\")\n",
    "info_df[\"sequence_id\"]=info_df[\"uid\"].str.extract(\"/(\\d+)_\")\n",
    "info_df[\"frame_id\"]=info_df[\"uid\"].str.extract(\"_(\\d+)$\").astype(int)\n",
    "info_df[\"sequence_uid\"] = info_df[\"category\"] + \"_\" + info_df[\"sequence_id\"]\n",
    "selected = info_df.query(f\"category=='shoe' and sequence_id=='batch-35_37'\").index"
   ]
  },
  {
   "cell_type": "code",
   "execution_count": 11,
   "metadata": {},
   "outputs": [
    {
     "data": {
      "text/html": [
       "<div>\n",
       "<style scoped>\n",
       "    .dataframe tbody tr th:only-of-type {\n",
       "        vertical-align: middle;\n",
       "    }\n",
       "\n",
       "    .dataframe tbody tr th {\n",
       "        vertical-align: top;\n",
       "    }\n",
       "\n",
       "    .dataframe thead th {\n",
       "        text-align: right;\n",
       "    }\n",
       "</style>\n",
       "<table border=\"1\" class=\"dataframe\">\n",
       "  <thead>\n",
       "    <tr style=\"text-align: right;\">\n",
       "      <th></th>\n",
       "      <th>class_id</th>\n",
       "      <th>uid</th>\n",
       "      <th>category</th>\n",
       "      <th>sequence_id</th>\n",
       "      <th>frame_id</th>\n",
       "      <th>sequence_uid</th>\n",
       "    </tr>\n",
       "  </thead>\n",
       "  <tbody>\n",
       "    <tr>\n",
       "      <th>0</th>\n",
       "      <td>6</td>\n",
       "      <td>hdf5_cup/00737_260</td>\n",
       "      <td>cup</td>\n",
       "      <td>00737</td>\n",
       "      <td>260</td>\n",
       "      <td>cup_00737</td>\n",
       "    </tr>\n",
       "    <tr>\n",
       "      <th>1</th>\n",
       "      <td>5</td>\n",
       "      <td>hdf5_chair/00772_0</td>\n",
       "      <td>chair</td>\n",
       "      <td>00772</td>\n",
       "      <td>0</td>\n",
       "      <td>chair_00772</td>\n",
       "    </tr>\n",
       "    <tr>\n",
       "      <th>2</th>\n",
       "      <td>7</td>\n",
       "      <td>hdf5_laptop/00759_210</td>\n",
       "      <td>laptop</td>\n",
       "      <td>00759</td>\n",
       "      <td>210</td>\n",
       "      <td>laptop_00759</td>\n",
       "    </tr>\n",
       "    <tr>\n",
       "      <th>3</th>\n",
       "      <td>1</td>\n",
       "      <td>hdf5_book/01022_50</td>\n",
       "      <td>book</td>\n",
       "      <td>01022</td>\n",
       "      <td>50</td>\n",
       "      <td>book_01022</td>\n",
       "    </tr>\n",
       "    <tr>\n",
       "      <th>4</th>\n",
       "      <td>2</td>\n",
       "      <td>hdf5_bottle/01070_200</td>\n",
       "      <td>bottle</td>\n",
       "      <td>01070</td>\n",
       "      <td>200</td>\n",
       "      <td>bottle_01070</td>\n",
       "    </tr>\n",
       "    <tr>\n",
       "      <th>...</th>\n",
       "      <td>...</td>\n",
       "      <td>...</td>\n",
       "      <td>...</td>\n",
       "      <td>...</td>\n",
       "      <td>...</td>\n",
       "      <td>...</td>\n",
       "    </tr>\n",
       "    <tr>\n",
       "      <th>30973</th>\n",
       "      <td>4</td>\n",
       "      <td>hdf5_cereal_box/00890_260</td>\n",
       "      <td>cereal_box</td>\n",
       "      <td>00890</td>\n",
       "      <td>260</td>\n",
       "      <td>cereal_box_00890</td>\n",
       "    </tr>\n",
       "    <tr>\n",
       "      <th>30974</th>\n",
       "      <td>6</td>\n",
       "      <td>hdf5_cup/01284_190</td>\n",
       "      <td>cup</td>\n",
       "      <td>01284</td>\n",
       "      <td>190</td>\n",
       "      <td>cup_01284</td>\n",
       "    </tr>\n",
       "    <tr>\n",
       "      <th>30975</th>\n",
       "      <td>6</td>\n",
       "      <td>hdf5_cup/00409_180</td>\n",
       "      <td>cup</td>\n",
       "      <td>00409</td>\n",
       "      <td>180</td>\n",
       "      <td>cup_00409</td>\n",
       "    </tr>\n",
       "    <tr>\n",
       "      <th>30976</th>\n",
       "      <td>0</td>\n",
       "      <td>hdf5_bike/00198_91</td>\n",
       "      <td>bike</td>\n",
       "      <td>00198</td>\n",
       "      <td>91</td>\n",
       "      <td>bike_00198</td>\n",
       "    </tr>\n",
       "    <tr>\n",
       "      <th>30977</th>\n",
       "      <td>3</td>\n",
       "      <td>hdf5_camera/00555_160</td>\n",
       "      <td>camera</td>\n",
       "      <td>00555</td>\n",
       "      <td>160</td>\n",
       "      <td>camera_00555</td>\n",
       "    </tr>\n",
       "  </tbody>\n",
       "</table>\n",
       "<p>30978 rows × 6 columns</p>\n",
       "</div>"
      ],
      "text/plain": [
       "      class_id                        uid    category sequence_id  frame_id  \\\n",
       "0            6         hdf5_cup/00737_260         cup       00737       260   \n",
       "1            5         hdf5_chair/00772_0       chair       00772         0   \n",
       "2            7      hdf5_laptop/00759_210      laptop       00759       210   \n",
       "3            1         hdf5_book/01022_50        book       01022        50   \n",
       "4            2      hdf5_bottle/01070_200      bottle       01070       200   \n",
       "...        ...                        ...         ...         ...       ...   \n",
       "30973        4  hdf5_cereal_box/00890_260  cereal_box       00890       260   \n",
       "30974        6         hdf5_cup/01284_190         cup       01284       190   \n",
       "30975        6         hdf5_cup/00409_180         cup       00409       180   \n",
       "30976        0         hdf5_bike/00198_91        bike       00198        91   \n",
       "30977        3      hdf5_camera/00555_160      camera       00555       160   \n",
       "\n",
       "           sequence_uid  \n",
       "0             cup_00737  \n",
       "1           chair_00772  \n",
       "2          laptop_00759  \n",
       "3            book_01022  \n",
       "4          bottle_01070  \n",
       "...                 ...  \n",
       "30973  cereal_box_00890  \n",
       "30974         cup_01284  \n",
       "30975         cup_00409  \n",
       "30976        bike_00198  \n",
       "30977      camera_00555  \n",
       "\n",
       "[30978 rows x 6 columns]"
      ]
     },
     "execution_count": 11,
     "metadata": {},
     "output_type": "execute_result"
    }
   ],
   "source": [
    "info_df"
   ]
  },
  {
   "cell_type": "code",
   "execution_count": 21,
   "metadata": {},
   "outputs": [
    {
     "data": {
      "text/plain": [
       "('shoe', '01685', 180)"
      ]
     },
     "execution_count": 21,
     "metadata": {},
     "output_type": "execute_result"
    }
   ],
   "source": [
    "import re\n",
    "def parse_hdf5_uid(uid):\n",
    "    m = re.match(\"hdf5_(\\w+)/(\\d+)_(\\d+)\", uid)\n",
    "    category, sequence, image_id = m[1],m[2], int(m[3])\n",
    "    return category, sequence, image_id \n",
    "category, sequence, image_id = parse_hdf5_uid(\"hdf5_shoe/01685_180\")\n",
    "category, sequence, image_id "
   ]
  },
  {
   "cell_type": "code",
   "execution_count": 22,
   "metadata": {},
   "outputs": [],
   "source": [
    "import h5py\n",
    "dataset = h5py.File('/home/raphael/datasets/objectron/extract_s5_raw.hdf5','r')"
   ]
  },
  {
   "cell_type": "code",
   "execution_count": 23,
   "metadata": {},
   "outputs": [
    {
     "data": {
      "text/plain": [
       "True"
      ]
     },
     "execution_count": 23,
     "metadata": {},
     "output_type": "execute_result"
    }
   ],
   "source": [
    "import cv2\n",
    "image_idx = list(dataset[category][sequence][\"IMAGE_ID\"]).index(image_id)\n",
    "img= cv2.imdecode(dataset[category][sequence][\"IMAGE\"][image_idx],cv2.IMREAD_ANYCOLOR)\n",
    "cv2.imwrite(\"/tmp/toto.jpg\",img)"
   ]
  },
  {
   "cell_type": "code",
   "execution_count": 24,
   "metadata": {},
   "outputs": [
    {
     "name": "stdout",
     "output_type": "stream",
     "text": [
      "mkdir: cannot create directory ‘tmp’: File exists\r\n"
     ]
    }
   ],
   "source": [
    "!mkdir tmp"
   ]
  },
  {
   "cell_type": "code",
   "execution_count": 25,
   "metadata": {},
   "outputs": [
    {
     "data": {
      "text/plain": [
       "'tmp/hdf5_shoe_01685_180.jpg'"
      ]
     },
     "execution_count": 25,
     "metadata": {},
     "output_type": "execute_result"
    }
   ],
   "source": [
    "def save_jpg(uid):\n",
    "    category, sequence, image_id = parse_hdf5_uid(uid)\n",
    "    image_idx = list(dataset[category][sequence][\"IMAGE_ID\"]).index(image_id)\n",
    "    img= cv2.imdecode(dataset[category][sequence][\"IMAGE\"][image_idx],cv2.IMREAD_ANYCOLOR)\n",
    "    basename = uid.replace(\"/\",\"_\")\n",
    "    jpeg_filename = f\"tmp/{basename}.jpg\"\n",
    "    #jpeg_filename = \"preview.jpeg\"\n",
    "    cv2.imwrite(jpeg_filename,img)\n",
    "    return jpeg_filename\n",
    "save_jpg(\"hdf5_shoe/01685_180\")"
   ]
  },
  {
   "cell_type": "code",
   "execution_count": 26,
   "metadata": {},
   "outputs": [
    {
     "data": {
      "text/plain": [
       "<matplotlib.image.AxesImage at 0x7f0705d26d00>"
      ]
     },
     "execution_count": 26,
     "metadata": {},
     "output_type": "execute_result"
    },
    {
     "data": {
      "image/png": "[encoded data removed]",
      "text/plain": [
       "<Figure size 432x288 with 1 Axes>"
      ]
     },
     "metadata": {
      "needs_background": "light"
     },
     "output_type": "display_data"
    }
   ],
   "source": [
    "from cv2_plt_imshow import cv2_plt_imshow\n",
    "cv2_plt_imshow(img)"
   ]
  },
  {
   "cell_type": "code",
   "execution_count": 27,
   "metadata": {},
   "outputs": [],
   "source": [
    "import re\n",
    "uid = \"hdf5_bike/00007_20\"\n",
    "m = re.match(\"hdf5_(\\w+)/(\\d+)_(\\d+)\", uid)\n",
    "category, sequence, frame = m[1],m[2],m[3]"
   ]
  },
  {
   "cell_type": "code",
   "execution_count": 28,
   "metadata": {},
   "outputs": [],
   "source": [
    "def filepath_from_uid(uid, subset=\"valid\"):\n",
    "    return save_jpg(uid)\n",
    "\n",
    "def image_tag(file_path, title=None, caption=\"n/a\"):\n",
    "    if title is None:\n",
    "        title=file_path\n",
    "    return f\"<div style='width:100px;height:120px;float:left;'><div>{caption}</div><img src='{file_path}' title={title}></img></div>\""
   ]
  },
  {
   "cell_type": "code",
   "execution_count": 29,
   "metadata": {},
   "outputs": [
    {
     "data": {
      "application/vnd.jupyter.widget-view+json": {
       "model_id": "8e3bce6338954633a4a18aced83e5db9",
       "version_major": 2,
       "version_minor": 0
      },
      "text/plain": [
       "HTML(value='')"
      ]
     },
     "metadata": {},
     "output_type": "display_data"
    },
    {
     "data": {
      "application/vnd.jupyter.widget-view+json": {
       "model_id": "40a5a317ea5d44809dfa749cd05628ad",
       "version_major": 2,
       "version_minor": 0
      },
      "text/plain": [
       "FigureWidget({\n",
       "    'data': [{'marker': {'color': array([6, 5, 7, ..., 6, 0, 3]),\n",
       "                         'col…"
      ]
     },
     "metadata": {},
     "output_type": "display_data"
    }
   ],
   "source": [
    "out2d = widgets.HTML()\n",
    "\n",
    "fig2d = go.FigureWidget(data=[go.Scatter(\n",
    "    #height=600,\n",
    "    x=embeddings_tsne[:,0],\n",
    "    y=embeddings_tsne[:,1],\n",
    "    text=info[1],\n",
    "    mode='markers',\n",
    "    marker=dict(\n",
    "        size=3,\n",
    "        color=info[0].astype(int),                # set color to an array/list of desired values\n",
    "        colorscale='Viridis',   # choose a colorscale\n",
    "        opacity=0.6\n",
    "    )\n",
    ")])\n",
    "def update_point(trace, points, selector):\n",
    "    global out\n",
    "    global info\n",
    "    global scatter\n",
    "    point_id = points.point_inds[0]\n",
    "    uid=scatter.text[point_id]\n",
    "    file_path = filepath_from_uid(uid)\n",
    "    out2d.value=image_tag(file_path, caption=\"\")\n",
    "\n",
    "scatter = fig2d.data[0]\n",
    "#fig2d.update_layout({\"height\": 800})\n",
    "scatter.on_hover(update_point)\n",
    "display(out2d)\n",
    "display(fig2d)\n"
   ]
  },
  {
   "cell_type": "code",
   "execution_count": 30,
   "metadata": {},
   "outputs": [
    {
     "data": {
      "application/vnd.jupyter.widget-view+json": {
       "model_id": "c124f6679cb84ad4bdf1b13f328ab903",
       "version_major": 2,
       "version_minor": 0
      },
      "text/plain": [
       "HTML(value='')"
      ]
     },
     "metadata": {},
     "output_type": "display_data"
    },
    {
     "data": {
      "application/vnd.jupyter.widget-view+json": {
       "model_id": "7c45cffa848d459989ff41d11cf4e718",
       "version_major": 2,
       "version_minor": 0
      },
      "text/plain": [
       "interactive(children=(Combobox(value='', description='Categories:', ensure_option=True, options=('all', 'bike'…"
      ]
     },
     "metadata": {},
     "output_type": "display_data"
    },
    {
     "data": {
      "application/vnd.jupyter.widget-view+json": {
       "model_id": "fbcbbc7ec5a543e4b3dac96a4c1da111",
       "version_major": 2,
       "version_minor": 0
      },
      "text/plain": [
       "FigureWidget({\n",
       "    'data': [{'marker': {'color': array([6, 5, 7, ..., 6, 0, 3]),\n",
       "                         'col…"
      ]
     },
     "metadata": {},
     "output_type": "display_data"
    }
   ],
   "source": [
    "\n",
    "projected_embeddings=embeddings_pca\n",
    "#projected_embeddings=embeddings_tsne\n",
    "\n",
    "df = pd.DataFrame(projected_embeddings)\n",
    "fig = go.FigureWidget(data=[go.Scatter3d(\n",
    "    x=projected_embeddings[:,0],\n",
    "    y=projected_embeddings[:,1],\n",
    "    z=projected_embeddings[:,2],\n",
    "    text=info[1],\n",
    "    mode='markers',\n",
    "    marker=dict(\n",
    "        size=1,\n",
    "        color=info[0].astype(int),                # set color to an array/list of desired values\n",
    "        colorscale='Viridis',   # choose a colorscale\n",
    "        opacity=0.6\n",
    "    )\n",
    ")])\n",
    "scatter = fig.data[0]\n",
    "fig.layout.hovermode = 'closest'\n",
    "\n",
    "out = widgets.HTML()\n",
    "display(out)\n",
    "out.value=\"<p>Hi there!</p>\"\n",
    "\n",
    "# create our callback function\n",
    "def update_point(trace, points, selector):\n",
    "    global out\n",
    "    global info\n",
    "    global scatter\n",
    "    point_id = points.point_inds[0]\n",
    "    uid=scatter.text[point_id]\n",
    "    file_path = save_jpg(uid)\n",
    "    out.value=image_tag(file_path, caption=\"\")\n",
    "\n",
    "def change_category(x):\n",
    "    global scatter\n",
    "    global projected_embeddings\n",
    "    global info_df\n",
    "    \n",
    "    if x==\"all\":\n",
    "        scatter.x = projected_embeddings[:,0]\n",
    "        scatter.y = projected_embeddings[:,1]\n",
    "        scatter.z = projected_embeddings[:,2]\n",
    "        scatter.text = info_df[\"uid\"]\n",
    "    else:\n",
    "        indices = info_df[\"uid\"].str.contains(x)\n",
    "        scatter.x = projected_embeddings[indices,0]\n",
    "        scatter.y = projected_embeddings[indices,1]\n",
    "        scatter.z = projected_embeddings[indices,2]  \n",
    "        scatter.text = info_df[info_df[\"uid\"].str.contains(x)][\"uid\"]\n",
    "\n",
    "    return \n",
    "scatter.on_hover(update_point)\n",
    "interact(change_category, x=widget_categories)\n",
    "display(fig)\n"
   ]
  },
  {
   "cell_type": "code",
   "execution_count": 31,
   "metadata": {},
   "outputs": [],
   "source": [
    "similarity_matrix = np.dot(embeddings,embeddings.T)"
   ]
  },
  {
   "cell_type": "code",
   "execution_count": 32,
   "metadata": {},
   "outputs": [],
   "source": [
    "import pandas as pd\n",
    "np.fill_diagonal(similarity_matrix,0)"
   ]
  },
  {
   "cell_type": "code",
   "execution_count": 33,
   "metadata": {},
   "outputs": [],
   "source": [
    "train_info_df[\"category\"]=train_info_df[\"uid\"].str.extract(\"(.*?)-\")\n",
    "train_info_df[\"sequence_id\"]=train_info_df[\"uid\"].str.extract(\"(batch-\\d+_\\d+_\\d+)\")\n",
    "train_info_df[\"frame_id\"]=train_info_df[\"uid\"].str.extract(\"(\\d+)$\")\n",
    "train_info_df[\"sequence_uid\"] = train_info_df[\"category\"] + \"_\" + train_info_df[\"sequence_id\"]"
   ]
  },
  {
   "cell_type": "code",
   "execution_count": 34,
   "metadata": {},
   "outputs": [],
   "source": [
    "categories = info_df[\"category\"].unique()\n"
   ]
  },
  {
   "cell_type": "code",
   "execution_count": 35,
   "metadata": {},
   "outputs": [
    {
     "data": {
      "text/plain": [
       "[12919]"
      ]
     },
     "execution_count": 35,
     "metadata": {},
     "output_type": "execute_result"
    }
   ],
   "source": [
    "visited = [0]\n",
    "\n",
    "def visit(node, similarity_matrix, k=1, threshold=0.95):\n",
    "    i=node\n",
    "    nn = (-similarity_matrix[i]).argsort()[0:k]\n",
    "    valid_nn = []\n",
    "    for j in nn:\n",
    "        if similarity_matrix[i,j] > threshold:\n",
    "            valid_nn.append(j)\n",
    "    return valid_nn\n",
    "visit(0, similarity_matrix)"
   ]
  },
  {
   "cell_type": "code",
   "execution_count": 36,
   "metadata": {},
   "outputs": [
    {
     "data": {
      "text/plain": [
       "45"
      ]
     },
     "execution_count": 36,
     "metadata": {},
     "output_type": "execute_result"
    }
   ],
   "source": [
    "from __future__ import print_function\n",
    "from ipywidgets import interact, interactive, fixed, interact_manual\n",
    "import ipywidgets as widgets\n",
    "import gc\n",
    "gc.collect()"
   ]
  },
  {
   "cell_type": "code",
   "execution_count": 37,
   "metadata": {},
   "outputs": [],
   "source": [
    "sequences_combo = widgets.Combobox(\n",
    "    placeholder='Choose Sequence',\n",
    "    options=list(info_df[\"uid\"].unique()),\n",
    "    description='Combobox:',\n",
    "    ensure_option=True,\n",
    "    disabled=False\n",
    ")\n",
    "which_radio = widgets.RadioButtons(\n",
    "    options=['all', 'others', 'exclusive'],\n",
    "    description='Show neighbors from sequences:',\n",
    "    disabled=False\n",
    ")"
   ]
  },
  {
   "cell_type": "code",
   "execution_count": 38,
   "metadata": {},
   "outputs": [
    {
     "data": {
      "text/plain": [
       "array([[0.        , 0.60394543, 0.5412717 , ..., 0.70243686, 0.7129862 ,\n",
       "        0.6508885 ],\n",
       "       [0.60394543, 0.        , 0.6010018 , ..., 0.70986164, 0.72413176,\n",
       "        0.67676026],\n",
       "       [0.5412717 , 0.6010018 , 0.        , ..., 0.5898309 , 0.64631194,\n",
       "        0.6432031 ],\n",
       "       ...,\n",
       "       [0.70243686, 0.70986164, 0.5898309 , ..., 0.        , 0.7779028 ,\n",
       "        0.695629  ],\n",
       "       [0.7129862 , 0.72413176, 0.64631194, ..., 0.7779028 , 0.        ,\n",
       "        0.63734573],\n",
       "       [0.6508885 , 0.67676026, 0.6432031 , ..., 0.695629  , 0.63734573,\n",
       "        0.        ]], dtype=float32)"
      ]
     },
     "execution_count": 38,
     "metadata": {},
     "output_type": "execute_result"
    }
   ],
   "source": [
    "similarity_matrix"
   ]
  },
  {
   "cell_type": "code",
   "execution_count": 39,
   "metadata": {},
   "outputs": [
    {
     "name": "stdout",
     "output_type": "stream",
     "text": [
      "['cup' 'chair' 'laptop' 'book' 'bottle' 'cereal_box' 'shoe' 'bike'\n",
      " 'camera']\n"
     ]
    },
    {
     "data": {
      "application/vnd.jupyter.widget-view+json": {
       "model_id": "961fd1d4a2eb46e094be8fcd83090fa2",
       "version_major": 2,
       "version_minor": 0
      },
      "text/plain": [
       "HTML(value='')"
      ]
     },
     "metadata": {},
     "output_type": "display_data"
    },
    {
     "data": {
      "application/vnd.jupyter.widget-view+json": {
       "model_id": "2bf24248a23f461887c7aed25bf5cd56",
       "version_major": 2,
       "version_minor": 0
      },
      "text/plain": [
       "interactive(children=(Combobox(value='', description='Combobox:', ensure_option=True, options=('hdf5_cup/00737…"
      ]
     },
     "metadata": {},
     "output_type": "display_data"
    },
    {
     "data": {
      "text/plain": [
       "<function __main__.f(x, which)>"
      ]
     },
     "execution_count": 39,
     "metadata": {},
     "output_type": "execute_result"
    }
   ],
   "source": [
    "out_similar = widgets.HTML()\n",
    "which = \"all\"\n",
    "\n",
    "def f(x, which):\n",
    "    global out_similar\n",
    "    max_thumb = 6\n",
    "    idx =info_df[info_df[\"uid\"]==x].index[0]\n",
    "    sequence_uid = info_df.iloc[idx][\"sequence_uid\"]\n",
    "    neighbors = visit(idx, similarity_matrix, k=1000, threshold=0)\n",
    "    valid_neighbbors = neighbors\n",
    "    sequence_uids = [sequence_uid]\n",
    "    if which==\"others\" or which==\"exclusive\":\n",
    "        valid_neighbbors=[]\n",
    "        for n in neighbors:\n",
    "            sequence_uid = str(info_df.iloc[n][\"sequence_uid\"])\n",
    "            if not sequence_uid in sequence_uids:\n",
    "                valid_neighbbors.append(n)\n",
    "            if which=='exclusive':\n",
    "                sequence_uids.append(sequence_uid)\n",
    "\n",
    "    html=\"<div>\"\n",
    "    file_path = save_jpg(x)\n",
    "    print(file_path)\n",
    "    html+=image_tag(file_path,x, caption=\"similarity:\")\n",
    "    for i, n in enumerate(valid_neighbbors):\n",
    "        uid = info_df.iloc[n][\"uid\"]\n",
    "        file_path = filepath_from_uid(uid)\n",
    "        html+=image_tag(file_path, uid, caption=f\"{similarity_matrix[idx, n]:.2f}\")\n",
    "        if i > max_thumb:\n",
    "            break\n",
    "    html+=\"</div>\"\n",
    "    out_similar.value = html\n",
    "    return \n",
    "\n",
    "\n",
    "def g(x):\n",
    "    global which\n",
    "    which = x\n",
    "    \n",
    "print(categories)\n",
    "display(out_similar)\n",
    "interact(f, x=sequences_combo, which=which_radio)\n",
    "#interact(g, o)"
   ]
  },
  {
   "cell_type": "code",
   "execution_count": 40,
   "metadata": {},
   "outputs": [],
   "source": [
    "def visit_train(embedding, train_embeddings, k=1000, threshold=0.5):\n",
    "    #i=node\n",
    "    similarity_vector = np.dot(embedding, train_embeddings)\n",
    "    nn = (-similarity_vector).argsort()[0:k]\n",
    "    valid_nn = []\n",
    "    for j in nn:\n",
    "        if similarity_vector[j] > threshold:\n",
    "            valid_nn.append(j)\n",
    "    return valid_nn, similarity_vector"
   ]
  },
  {
   "cell_type": "code",
   "execution_count": 41,
   "metadata": {},
   "outputs": [],
   "source": [
    "sequences_combo_train = widgets.Combobox(\n",
    "    placeholder='Choose Sequence',\n",
    "    options=list(info_df[\"uid\"].unique()),\n",
    "    description='Combobox:',\n",
    "    ensure_option=True,\n",
    "    disabled=False\n",
    ")\n",
    "which_radio_train = widgets.RadioButtons(\n",
    "    options=['all', 'others', 'exclusive'],\n",
    "    description='Show neighbors from sequences:',\n",
    "    disabled=False\n",
    ")"
   ]
  },
  {
   "cell_type": "code",
   "execution_count": 42,
   "metadata": {
    "scrolled": true
   },
   "outputs": [
    {
     "name": "stdout",
     "output_type": "stream",
     "text": [
      "['cup' 'chair' 'laptop' 'book' 'bottle' 'cereal_box' 'shoe' 'bike'\n",
      " 'camera']\n"
     ]
    },
    {
     "data": {
      "application/vnd.jupyter.widget-view+json": {
       "model_id": "0f882ab4c7a945e08b004a02ae3a5693",
       "version_major": 2,
       "version_minor": 0
      },
      "text/plain": [
       "HTML(value='')"
      ]
     },
     "metadata": {},
     "output_type": "display_data"
    },
    {
     "data": {
      "application/vnd.jupyter.widget-view+json": {
       "model_id": "68dafa19c8464b8e9282cdd1d9d45510",
       "version_major": 2,
       "version_minor": 0
      },
      "text/plain": [
       "interactive(children=(Combobox(value='', description='Combobox:', ensure_option=True, options=('hdf5_cup/00737…"
      ]
     },
     "metadata": {},
     "output_type": "display_data"
    },
    {
     "data": {
      "text/plain": [
       "<function __main__.f_train(x, which)>"
      ]
     },
     "execution_count": 42,
     "metadata": {},
     "output_type": "execute_result"
    }
   ],
   "source": [
    "out_similar = widgets.HTML()\n",
    "which = \"all\"\n",
    "\n",
    "def f_train(x, which):\n",
    "    global out_similar\n",
    "    \n",
    "    max_thumb = 6\n",
    "    idx =info_df[info_df[\"uid\"]==x].index[0]\n",
    "    sequence_uid = info_df.iloc[idx][\"sequence_uid\"]\n",
    "    \n",
    "    neighbors, similarity_vector = visit_train(embeddings[idx], train_embeddings, k=1000, threshold=0)\n",
    "    print(idx)\n",
    "    valid_neighbbors = neighbors\n",
    "    sequence_uids = {sequence_uid: True}\n",
    "    valid_neighbbors_idx = []\n",
    "    if which==\"others\" or which==\"exclusive\":\n",
    "        valid_neighbbors=[]\n",
    "        for i, n in enumerate(neighbors):\n",
    "            sequence_uid = str(train_info_df.iloc[n][\"sequence_uid\"])\n",
    "            if not sequence_uid in sequence_uids:\n",
    "                valid_neighbbors.append(n)\n",
    "                valid_neighbbors_idx.append(i)\n",
    "                if which=='exclusive':\n",
    "                    sequence_uids[sequence_uid] = True\n",
    "\n",
    "    html=\"<div>\"\n",
    "    file_path = filepath_from_uid(x)\n",
    "    html+=image_tag(file_path,x, caption=\"similarity:\")\n",
    "    for i, n in enumerate(valid_neighbbors):\n",
    "        uid = train_info_df.iloc[n][\"uid\"]\n",
    "        k = valid_neighbbors_idx[i]\n",
    "        file_path = filepath_from_uid(uid, subset=\"train\")\n",
    "        html+=image_tag(file_path, uid, caption=f\"{similarity_vector[n]:.2f}, k={k}\")\n",
    "        if i > max_thumb:\n",
    "            break\n",
    "        #print(file_path)\n",
    "    html+=\"</div>\"\n",
    "    out_similar.value = html\n",
    "    return \n",
    "\n",
    "\n",
    "def g(x):\n",
    "    global which\n",
    "    which = x\n",
    "    \n",
    "print(categories)\n",
    "display(out_similar)\n",
    "interact(f_train, x=sequences_combo_train, which=which_radio_train)\n"
   ]
  },
  {
   "cell_type": "code",
   "execution_count": 154,
   "metadata": {},
   "outputs": [
    {
     "data": {
      "text/plain": [
       "0        bike_00007\n",
       "1        bike_00007\n",
       "2        bike_00007\n",
       "3        bike_00007\n",
       "4        bike_00007\n",
       "            ...    \n",
       "30973    shoe_01685\n",
       "30974    shoe_01685\n",
       "30975    shoe_01685\n",
       "30976    shoe_01685\n",
       "30977    shoe_01685\n",
       "Name: sequence_uid, Length: 30978, dtype: object"
      ]
     },
     "execution_count": 154,
     "metadata": {},
     "output_type": "execute_result"
    }
   ],
   "source": [
    "info_df[\"sequence_uid\"]"
   ]
  },
  {
   "cell_type": "code",
   "execution_count": 155,
   "metadata": {},
   "outputs": [],
   "source": [
    "sequence_embeddings_info = info_df[info_df[\"sequence_uid\"]==\"bike_00007\"]\n",
    "sequence_embeddings = embeddings[sequence_embeddings_info.index]\n",
    "sequence_pca = PCA(n_components=10)\n",
    "sequence_embeddings_pca = sequence_pca.fit_transform(sequence_embeddings)\n",
    "sequence_embeddings_info = sequence_embeddings_info.reset_index()"
   ]
  },
  {
   "cell_type": "code",
   "execution_count": 156,
   "metadata": {},
   "outputs": [
    {
     "data": {
      "application/vnd.jupyter.widget-view+json": {
       "model_id": "e87c335be81444fa96a681fc18489542",
       "version_major": 2,
       "version_minor": 0
      },
      "text/plain": [
       "HTML(value='')"
      ]
     },
     "metadata": {},
     "output_type": "display_data"
    },
    {
     "data": {
      "application/vnd.jupyter.widget-view+json": {
       "model_id": "df7c78517be1480f9fd3efa94bf84acf",
       "version_major": 2,
       "version_minor": 0
      },
      "text/plain": [
       "FigureWidget({\n",
       "    'data': [{'marker': {'color': array([0, 0, 0, ..., 8, 8, 8]),\n",
       "                         'col…"
      ]
     },
     "metadata": {},
     "output_type": "display_data"
    },
    {
     "data": {
      "application/vnd.jupyter.widget-view+json": {
       "model_id": "d7f52c34e1fb45e09c0e3bd37f75821e",
       "version_major": 2,
       "version_minor": 0
      },
      "text/plain": [
       "interactive(children=(Combobox(value='', description='Categories:', ensure_option=True, options=('bike_00007',…"
      ]
     },
     "metadata": {},
     "output_type": "display_data"
    },
    {
     "data": {
      "text/plain": [
       "<function __main__.change_sequence_uid(sequence_uid)>"
      ]
     },
     "execution_count": 156,
     "metadata": {},
     "output_type": "execute_result"
    }
   ],
   "source": [
    "\n",
    "\n",
    "widget_sequence_uid = widgets.Combobox(\n",
    "    # value='John',\n",
    "    placeholder='shoe_batch-35_37',\n",
    "    options=list(info_df[\"sequence_uid\"].unique()),\n",
    "    description='Categories:',\n",
    "    ensure_option=True,\n",
    "    disabled=False\n",
    ")\n",
    "\n",
    "\n",
    "df = pd.DataFrame(projected_embeddings)\n",
    "fig = go.FigureWidget(data=[go.Scatter3d(\n",
    "    x=sequence_embeddings_pca[:,0],\n",
    "    y=sequence_embeddings_pca[:,1],\n",
    "    z=sequence_embeddings_pca[:,2],\n",
    "    text=sequence_embeddings_info[\"uid\"],\n",
    "    mode='markers',\n",
    "    marker=dict(\n",
    "        size=3,\n",
    "        color=info[0].astype(int),                # set color to an array/list of desired values\n",
    "        colorscale='Viridis',   # choose a colorscale\n",
    "        opacity=0.6\n",
    "    )\n",
    ")])\n",
    "scatter2 = fig.data[0]\n",
    "fig.layout.hovermode = 'closest'\n",
    "\n",
    "out2 = widgets.HTML()\n",
    "display(out2)\n",
    "out.value=\"<p>Hi there!</p>\"\n",
    "\n",
    "# create our callback function\n",
    "def update_point2(trace, points, selector):\n",
    "    global out2\n",
    "    global info\n",
    "    global scatter2\n",
    "    point_id = points.point_inds[0]\n",
    "    #dataset_dir=\"../datasets/objectron_96x96/valid\"\n",
    "    uid=scatter2.text[point_id].split(\",\")[0]\n",
    "    file_path = filepath_from_uid(uid)\n",
    "    out2.value=image_tag(file_path, caption=\"\")\n",
    "\n",
    "def change_sequence_uid(sequence_uid):\n",
    "    global scatter2\n",
    "    global embeddings\n",
    "    global info_df\n",
    "    global sequence_embeddings_pca, sequence_embeddings_info, sequence_embeddings\n",
    "    if len(sequence_uid)==0:\n",
    "        sequence_uid=\"bike_batch-3_10\"\n",
    "    sequence_embeddings_info = info_df[info_df[\"sequence_uid\"]==sequence_uid]\n",
    "    sequence_embeddings = embeddings[sequence_embeddings_info.index]\n",
    "    sequence_pca = PCA(n_components=10)\n",
    "    print(\"Gluk!\")\n",
    "    sequence_embeddings_pca = sequence_pca.fit_transform(sequence_embeddings)\n",
    "    \n",
    "    sequence_embeddings_info = sequence_embeddings_info.reset_index()\n",
    "\n",
    "    scatter2.x = list(sequence_embeddings_pca[:,0])\n",
    "    scatter2.y = sequence_embeddings_pca[:,1]\n",
    "    scatter2.z = sequence_embeddings_pca[:,2]\n",
    "\n",
    "    scatter2.text = sequence_embeddings_info[\"uid\"] + \",\"+ sequence_embeddings_info[\"index\"].astype(str)\n",
    "    return \n",
    "\n",
    "display(fig)\n",
    "scatter2.on_hover(update_point2)\n",
    "interact(change_sequence_uid, sequence_uid=widget_sequence_uid)\n",
    "\n"
   ]
  },
  {
   "cell_type": "code",
   "execution_count": null,
   "metadata": {},
   "outputs": [],
   "source": []
  }
 ],
 "metadata": {
  "kernelspec": {
   "display_name": "Python 3",
   "language": "python",
   "name": "python3"
  },
  "language_info": {
   "codemirror_mode": {
    "name": "ipython",
    "version": 3
   },
   "file_extension": ".py",
   "mimetype": "text/x-python",
   "name": "python",
   "nbconvert_exporter": "python",
   "pygments_lexer": "ipython3",
   "version": "3.8.6"
  }
 },
 "nbformat": 4,
 "nbformat_minor": 4
}
